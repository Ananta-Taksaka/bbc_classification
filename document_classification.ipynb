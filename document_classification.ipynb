{
 "cells": [
  {
   "cell_type": "markdown",
   "metadata": {},
   "source": [
    "<h1>Klasifikasi Dokumen Berita BBC</h1>\n",
    "\n",
    "Proyek ini bertujuan untuk mengklasifikasikan dokumen menggunakan Jaringan Saraf Tiruan (JST) (<i>Artificial Neural Network (ANN)</i>). Pada proyek ini kami juga akan menggunakan algoritma non JST yaitu : KNN sebagai metode pembanding. Score TF-IDF akan digunakan sebagai fitur dalam proyek ini, yang dimana selanjutnya dijadikan input untuk jaringan Saraf Tiruan. Dari proses training ini diharapkan mampu menghasilkan model yang handal dalam melakukan klasifikasi dokumen. Adapun alur proyek yang diadaptasikan dalam proyek ini adalah sebagai berikut :\n",
    "<ol>\n",
    "  <li>Load Dataset</li>\n",
    "  <li>Preprocessing Data</li>\n",
    "    <ul>\n",
    "      <li>Lowercasing</li>\n",
    "      <li>Tokenisasi</li>\n",
    "      <li>Cleaning</li>\n",
    "      <li>Stopword</li>\n",
    "      <li>Steming</li>\n",
    "      <li>Lematisasi</li>\n",
    "      <li>Data Spliting</li>\n",
    "    </ul>\n",
    "  <li>Features Reduction(Optional)</li>\n",
    "    <ul>\n",
    "      <li>PCA</li>\n",
    "      <li>Chi-Square</li>\n",
    "    </ul>\n",
    "  <li>Training Phase</li>\n",
    "    <ul>\n",
    "      <li>Backpropagation</li>\n",
    "      <li>RNN</li>\n",
    "      <li>KNN</li>\n",
    "    </ul>\n",
    "  <li>Testing Phase</li>\n",
    "  <li>Result</li>\n",
    "    <ul>\n",
    "      <li>Confusion Matrix</li>\n",
    "      <li>Accuracy</li>\n",
    "      <li>Precision</li>\n",
    "      <li>Recall</li>\n",
    "      <li>F1 Score</li>\n",
    "    </ul>\n",
    "</ol>"
   ]
  },
  {
   "cell_type": "markdown",
   "metadata": {},
   "source": [
    "<h2>Load Dataset</h2>\n",
    "\n",
    "Dataset yang digunakan adalah <a href =\"https://www.kaggle.com/datasets/shivamkushwaha/bbc-full-text-document-classification\">BBC Full Text Document Classification</a>. Dataset ini terdiri atas 2225 dokumen yang dikurasi dari website berita BBC dengan 5 kategori (bussines, entertainment, politics, sport dan tech). Dataset ini dikurasi dari tahun 2004 - 2005.\n",
    "\n",
    "Sitasi : D. Greene and P. Cunningham. \"Practical Solutions to the Problem of Diagonal Dominance in Kernel Document Clustering\", Proc. ICML 2006."
   ]
  },
  {
   "cell_type": "code",
   "execution_count": 8,
   "metadata": {},
   "outputs": [
    {
     "name": "stdout",
     "output_type": "stream",
     "text": [
      "NumPy version: 1.26.0\n",
      "Spacy version: 3.7.1\n",
      "Pandas version: 2.1.1\n",
      "Matplotlib version: 3.8.0\n",
      "Seaborn version: 0.13.0\n"
     ]
    }
   ],
   "source": [
    "# Data manipulation libraries.\n",
    "import numpy as np\n",
    "import pandas as pd\n",
    "import spacy\n",
    "\n",
    "# Data visualization libraries.\n",
    "import matplotlib\n",
    "import matplotlib.pyplot as plt\n",
    "import seaborn as sns\n",
    "from prettytable import PrettyTable\n",
    "\n",
    "# General Imports\n",
    "import os\n",
    "import re\n",
    "from tqdm import tqdm\n",
    "from colorama import Fore, Style\n",
    "from collections import Counter\n",
    "\n",
    "\n",
    "# Library versions.\n",
    "print(\"NumPy version:\", np.__version__)\n",
    "print(\"Spacy version:\", spacy.__version__)\n",
    "print(\"Pandas version:\", pd.__version__)\n",
    "print(\"Matplotlib version:\", matplotlib.__version__)\n",
    "print(\"Seaborn version:\", sns.__version__)"
   ]
  },
  {
   "cell_type": "markdown",
   "metadata": {},
   "source": [
    "<h3>Konstanta</h3>"
   ]
  },
  {
   "cell_type": "code",
   "execution_count": 12,
   "metadata": {},
   "outputs": [],
   "source": [
    "DATA_DIR = \"dataset/\"\n",
    "METADATA_CSV = \"doc_metadata.csv\""
   ]
  },
  {
   "cell_type": "markdown",
   "metadata": {},
   "source": [
    "<h3>Daftar Fungsi</h3>"
   ]
  },
  {
   "cell_type": "code",
   "execution_count": 63,
   "metadata": {},
   "outputs": [],
   "source": [
    "def display_as_table(headers, rows, align=\"r\", add_sl_no=False):\n",
    "    if isinstance(rows, pd.Series):\n",
    "        rows = list(rows.iteritems())\n",
    "\n",
    "    table = PrettyTable(align=align)\n",
    "\n",
    "    if add_sl_no:\n",
    "        table.field_names = [\"No.\"] + list(headers)\n",
    "        table.align[\"No.\"] = \"r\"\n",
    "        rows = [[idx + 1] + list(row) for idx, row in enumerate(rows)]\n",
    "    else:\n",
    "        table.field_names = headers\n",
    "\n",
    "    table.add_rows(rows)\n",
    "    display(table)\n",
    "\n",
    "\n",
    "to_dict = lambda frm_list: {item: frm_list.index(item) for item in frm_list}"
   ]
  },
  {
   "cell_type": "code",
   "execution_count": 23,
   "metadata": {},
   "outputs": [
    {
     "data": {
      "text/html": [
       "<div>\n",
       "<style scoped>\n",
       "    .dataframe tbody tr th:only-of-type {\n",
       "        vertical-align: middle;\n",
       "    }\n",
       "\n",
       "    .dataframe tbody tr th {\n",
       "        vertical-align: top;\n",
       "    }\n",
       "\n",
       "    .dataframe thead th {\n",
       "        text-align: right;\n",
       "    }\n",
       "</style>\n",
       "<table border=\"1\" class=\"dataframe\">\n",
       "  <thead>\n",
       "    <tr style=\"text-align: right;\">\n",
       "      <th></th>\n",
       "      <th>Doc_Kategori</th>\n",
       "      <th>Id_Doc</th>\n",
       "      <th>Ukuran_Doc</th>\n",
       "      <th>Path_Doc</th>\n",
       "    </tr>\n",
       "  </thead>\n",
       "  <tbody>\n",
       "    <tr>\n",
       "      <th>1257</th>\n",
       "      <td>Politics</td>\n",
       "      <td>P_362</td>\n",
       "      <td>3427</td>\n",
       "      <td>dataset/politics/362.txt</td>\n",
       "    </tr>\n",
       "    <tr>\n",
       "      <th>600</th>\n",
       "      <td>Entertainment</td>\n",
       "      <td>E_091</td>\n",
       "      <td>1163</td>\n",
       "      <td>dataset/entertainment/091.txt</td>\n",
       "    </tr>\n",
       "    <tr>\n",
       "      <th>1547</th>\n",
       "      <td>Sport</td>\n",
       "      <td>S_235</td>\n",
       "      <td>4437</td>\n",
       "      <td>dataset/sport/235.txt</td>\n",
       "    </tr>\n",
       "    <tr>\n",
       "      <th>227</th>\n",
       "      <td>Business</td>\n",
       "      <td>B_228</td>\n",
       "      <td>1329</td>\n",
       "      <td>dataset/business/228.txt</td>\n",
       "    </tr>\n",
       "    <tr>\n",
       "      <th>1845</th>\n",
       "      <td>Tech</td>\n",
       "      <td>T_022</td>\n",
       "      <td>1794</td>\n",
       "      <td>dataset/tech/022.txt</td>\n",
       "    </tr>\n",
       "    <tr>\n",
       "      <th>1098</th>\n",
       "      <td>Politics</td>\n",
       "      <td>P_203</td>\n",
       "      <td>2529</td>\n",
       "      <td>dataset/politics/203.txt</td>\n",
       "    </tr>\n",
       "    <tr>\n",
       "      <th>2102</th>\n",
       "      <td>Tech</td>\n",
       "      <td>T_279</td>\n",
       "      <td>2391</td>\n",
       "      <td>dataset/tech/279.txt</td>\n",
       "    </tr>\n",
       "    <tr>\n",
       "      <th>2110</th>\n",
       "      <td>Tech</td>\n",
       "      <td>T_287</td>\n",
       "      <td>1945</td>\n",
       "      <td>dataset/tech/287.txt</td>\n",
       "    </tr>\n",
       "    <tr>\n",
       "      <th>1870</th>\n",
       "      <td>Tech</td>\n",
       "      <td>T_047</td>\n",
       "      <td>1835</td>\n",
       "      <td>dataset/tech/047.txt</td>\n",
       "    </tr>\n",
       "    <tr>\n",
       "      <th>1885</th>\n",
       "      <td>Tech</td>\n",
       "      <td>T_062</td>\n",
       "      <td>2482</td>\n",
       "      <td>dataset/tech/062.txt</td>\n",
       "    </tr>\n",
       "  </tbody>\n",
       "</table>\n",
       "</div>"
      ],
      "text/plain": [
       "       Doc_Kategori Id_Doc  Ukuran_Doc                       Path_Doc\n",
       "1257       Politics  P_362        3427       dataset/politics/362.txt\n",
       "600   Entertainment  E_091        1163  dataset/entertainment/091.txt\n",
       "1547          Sport  S_235        4437          dataset/sport/235.txt\n",
       "227        Business  B_228        1329       dataset/business/228.txt\n",
       "1845           Tech  T_022        1794           dataset/tech/022.txt\n",
       "1098       Politics  P_203        2529       dataset/politics/203.txt\n",
       "2102           Tech  T_279        2391           dataset/tech/279.txt\n",
       "2110           Tech  T_287        1945           dataset/tech/287.txt\n",
       "1870           Tech  T_047        1835           dataset/tech/047.txt\n",
       "1885           Tech  T_062        2482           dataset/tech/062.txt"
      ]
     },
     "execution_count": 23,
     "metadata": {},
     "output_type": "execute_result"
    }
   ],
   "source": [
    "meta_data = []\n",
    "\n",
    "folder_kategori = os.listdir(DATA_DIR)\n",
    "\n",
    "for kategori in folder_kategori:\n",
    "    path_kategori = os.path.join(DATA_DIR, kategori)\n",
    "    if not os.path.isdir(path_kategori):\n",
    "        continue\n",
    "\n",
    "    nama_docs = os.listdir(path_kategori)\n",
    "    for doc in nama_docs:\n",
    "        path_doc = path_kategori + \"/\" + doc\n",
    "        ukuran_doc = os.path.getsize(path_doc)\n",
    "        nama_doc, ext = os.path.splitext(doc) \n",
    "        doc_id = kategori[0].upper() + \"_\" + nama_doc\n",
    "        meta_data.append([kategori.capitalize(), doc_id, ukuran_doc, path_doc])\n",
    "\n",
    "nama_kolom = [\"Doc_Kategori\", \"Id_Doc\", \"Ukuran_Doc\", \"Path_Doc\"]\n",
    "meta_df = pd.DataFrame(data=meta_data, columns=nama_kolom)\n",
    "\n",
    "meta_df.to_csv(METADATA_CSV, index=False, na_rep=\"\")\n",
    "\n",
    "meta_df[\"Doc_Kategori\"] = meta_df[\"Doc_Kategori\"].astype(\"category\")\n",
    "\n",
    "meta_df.sample(10)\n"
   ]
  },
  {
   "cell_type": "code",
   "execution_count": 25,
   "metadata": {},
   "outputs": [
    {
     "name": "stdout",
     "output_type": "stream",
     "text": [
      "Dataset terdiri dari 2225 baris and 4 kolom.\n",
      "\n",
      "<class 'pandas.core.frame.DataFrame'>\n",
      "RangeIndex: 2225 entries, 0 to 2224\n",
      "Data columns (total 4 columns):\n",
      " #   Column        Non-Null Count  Dtype   \n",
      "---  ------        --------------  -----   \n",
      " 0   Doc_Kategori  2225 non-null   category\n",
      " 1   Id_Doc        2225 non-null   object  \n",
      " 2   Ukuran_Doc    2225 non-null   int64   \n",
      " 3   Path_Doc      2225 non-null   object  \n",
      "dtypes: category(1), int64(1), object(2)\n",
      "memory usage: 54.7+ KB\n"
     ]
    }
   ],
   "source": [
    "baris, kolom = meta_df.shape\n",
    "print(f\"Dataset terdiri dari {baris} baris and {kolom} kolom.\\n\")\n",
    "\n",
    "meta_df.info()"
   ]
  },
  {
   "cell_type": "markdown",
   "metadata": {},
   "source": [
    "Tidak ada data yang <i>missing</i>"
   ]
  },
  {
   "cell_type": "markdown",
   "metadata": {},
   "source": [
    "<h3>Label Kategori</h3>"
   ]
  },
  {
   "cell_type": "code",
   "execution_count": 60,
   "metadata": {},
   "outputs": [
    {
     "data": {
      "text/html": [
       "<table>\n",
       "    <thead>\n",
       "        <tr>\n",
       "            <th>No.</th>\n",
       "            <th>Label Kategori</th>\n",
       "            <th>Jumlah</th>\n",
       "        </tr>\n",
       "    </thead>\n",
       "    <tbody>\n",
       "        <tr>\n",
       "            <td>1</td>\n",
       "            <td>Sport</td>\n",
       "            <td>511</td>\n",
       "        </tr>\n",
       "        <tr>\n",
       "            <td>2</td>\n",
       "            <td>Business</td>\n",
       "            <td>510</td>\n",
       "        </tr>\n",
       "        <tr>\n",
       "            <td>3</td>\n",
       "            <td>Politics</td>\n",
       "            <td>417</td>\n",
       "        </tr>\n",
       "        <tr>\n",
       "            <td>4</td>\n",
       "            <td>Tech</td>\n",
       "            <td>401</td>\n",
       "        </tr>\n",
       "        <tr>\n",
       "            <td>5</td>\n",
       "            <td>Entertainment</td>\n",
       "            <td>386</td>\n",
       "        </tr>\n",
       "    </tbody>\n",
       "</table>"
      ],
      "text/plain": [
       "+-----+----------------+--------+\n",
       "| No. | Label Kategori | Jumlah |\n",
       "+-----+----------------+--------+\n",
       "|   1 |          Sport |    511 |\n",
       "|   2 |       Business |    510 |\n",
       "|   3 |       Politics |    417 |\n",
       "|   4 |           Tech |    401 |\n",
       "|   5 |  Entertainment |    386 |\n",
       "+-----+----------------+--------+"
      ]
     },
     "metadata": {},
     "output_type": "display_data"
    }
   ],
   "source": [
    "jum_kategori = meta_df[\"Doc_Kategori\"].value_counts()\n",
    "\n",
    "display_as_table(\n",
    "  headers = [\"Label Kategori\", \"Jumlah\"],\n",
    "  rows = list(zip(jum_kategori.index, jum_kategori.values)),\n",
    "  add_sl_no = True\n",
    ")"
   ]
  },
  {
   "cell_type": "code",
   "execution_count": 62,
   "metadata": {},
   "outputs": [
    {
     "data": {
      "image/png": "[encoded data removed]",
      "text/plain": [
       "<Figure size 500x500 with 1 Axes>"
      ]
     },
     "metadata": {},
     "output_type": "display_data"
    }
   ],
   "source": [
    "plt.figure(figsize=(5, 5))\n",
    "\n",
    "plt.pie(x=jum_kategori, labels=jum_kategori.index, autopct=\"%1.0f%%\")\n",
    "plt.title(\"Kategori Dokumen\")\n",
    "\n",
    "plt.show()"
   ]
  },
  {
   "cell_type": "code",
   "execution_count": 64,
   "metadata": {},
   "outputs": [
    {
     "name": "stdout",
     "output_type": "stream",
     "text": [
      "Encoded class-labels:\n",
      " {'Business': 0, 'Entertainment': 1, 'Politics': 2, 'Sport': 3, 'Tech': 4}\n"
     ]
    },
    {
     "data": {
      "text/plain": [
       "DocCat\n",
       "0    510\n",
       "1    386\n",
       "2    417\n",
       "3    511\n",
       "4    401\n",
       "Name: count, dtype: int64"
      ]
     },
     "execution_count": 64,
     "metadata": {},
     "output_type": "execute_result"
    }
   ],
   "source": [
    "codes, uniques = pd.factorize(meta_df[\"Doc_Kategori\"])\n",
    "\n",
    "cls_map = to_dict(uniques.categories.to_list())\n",
    "print(\"Encoded class-labels:\\n\", cls_map)\n",
    "\n",
    "meta_df[\"DocCat\"] = codes\n",
    "meta_df[\"DocCat\"].value_counts().sort_index()"
   ]
  },
  {
   "cell_type": "code",
   "execution_count": 92,
   "metadata": {},
   "outputs": [
    {
     "data": {
      "image/png": "[encoded data removed]",
      "text/plain": [
       "<Figure size 800x500 with 1 Axes>"
      ]
     },
     "metadata": {},
     "output_type": "display_data"
    }
   ],
   "source": [
    "plt.figure(figsize=(8, 5))\n",
    "\n",
    "sns.boxplot(data=meta_df, x=\"Ukuran_Doc\", y=\"Doc_Kategori\", palette=\"tab10\", hue=\"Doc_Kategori\", legend=False)\n",
    "plt.title(\"Distribusi ukuran dokumen\")\n",
    "plt.xlabel(\"Ukuran dokumen dalam bytes\")\n",
    "plt.ylabel(\"Kategori Dokumen\")\n",
    "\n",
    "plt.show()"
   ]
  }
 ],
 "metadata": {
  "kernelspec": {
   "display_name": "Python 3",
   "language": "python",
   "name": "python3"
  },
  "language_info": {
   "codemirror_mode": {
    "name": "ipython",
    "version": 3
   },
   "file_extension": ".py",
   "mimetype": "text/x-python",
   "name": "python",
   "nbconvert_exporter": "python",
   "pygments_lexer": "ipython3",
   "version": "3.11.4"
  }
 },
 "nbformat": 4,
 "nbformat_minor": 2
}
