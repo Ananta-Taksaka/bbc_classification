{
 "cells": [
  {
   "attachments": {},
   "cell_type": "markdown",
   "metadata": {},
   "source": [
    "<h1>Klasifikasi Dokumen Berita BBC</h1>\n",
    "\n",
    "Proyek ini bertujuan untuk mengklasifikasikan dokumen menggunakan Jaringan Saraf Tiruan (JST) (<i>Artificial Neural Network (ANN)</i>). Pada proyek ini kami juga akan menggunakan algoritma non JST yaitu : KNN sebagai metode pembanding. Score TF-IDF akan digunakan sebagai fitur dalam proyek ini, yang dimana selanjutnya dijadikan input untuk jaringan Saraf Tiruan. Dari proses training ini diharapkan mampu menghasilkan model yang handal dalam melakukan klasifikasi dokumen. Adapun alur proyek yang diadaptasikan dalam proyek ini adalah sebagai berikut :\n",
    "<ol>\n",
    "  <li>Load Dataset</li>\n",
    "  <li>Preprocessing Data</li>\n",
    "    <ul>\n",
    "      <li>Lowercasing</li>\n",
    "      <li>Tokenisasi</li>\n",
    "      <li>Cleaning</li>\n",
    "      <li>Stopword</li>\n",
    "      <li>Steming</li>\n",
    "      <li>Lematisasi</li>\n",
    "      <li>Data Spliting</li>\n",
    "    </ul>\n",
    "  <li>Features Reduction(Optional)</li>\n",
    "    <ul>\n",
    "      <li>PCA</li>\n",
    "      <li>Chi-Square</li>\n",
    "    </ul>\n",
    "  <li>Training Phase</li>\n",
    "    <ul>\n",
    "      <li>Backpropagation</li>\n",
    "      <li>RNN</li>\n",
    "      <li>KNN</li>\n",
    "    </ul>\n",
    "  <li>Testing Phase</li>\n",
    "  <li>Result</li>\n",
    "    <ul>\n",
    "      <li>Confusion Matrix</li>\n",
    "      <li>Accuracy</li>\n",
    "      <li>Precision</li>\n",
    "      <li>Recall</li>\n",
    "      <li>F1 Score</li>\n",
    "    </ul>\n",
    "</ol>"
   ]
  },
  {
   "attachments": {},
   "cell_type": "markdown",
   "metadata": {},
   "source": [
    "<h2>Load Dataset</h2>\n",
    "\n",
    "Dataset yang digunakan adalah <a href =\"https://www.kaggle.com/datasets/shivamkushwaha/bbc-full-text-document-classification\">BBC Full Text Document Classification</a>. Dataset ini terdiri atas 2225 dokumen yang dikurasi dari website berita BBC dengan 5 kategori (bussines, entertainment, politics, sport dan tech). Dataset ini dikurasi dari tahun 2004 - 2005.\n",
    "\n",
    "Sitasi : D. Greene and P. Cunningham. \"Practical Solutions to the Problem of Diagonal Dominance in Kernel Document Clustering\", Proc. ICML 2006."
   ]
  },
  {
   "cell_type": "code",
   "execution_count": 4,
   "metadata": {},
   "outputs": [
    {
     "name": "stdout",
     "output_type": "stream",
     "text": [
      "NumPy version: 1.26.2\n",
      "Spacy version: 3.7.4\n",
      "Pandas version: 2.1.3\n",
      "Matplotlib version: 3.8.2\n",
      "Seaborn version: 0.13.0\n"
     ]
    }
   ],
   "source": [
    "# Data manipulation libraries.\n",
    "import numpy as np\n",
    "import pandas as pd\n",
    "import spacy\n",
    "\n",
    "# Data visualization libraries.\n",
    "import matplotlib\n",
    "import matplotlib.pyplot as plt\n",
    "import seaborn as sns\n",
    "from prettytable import PrettyTable\n",
    "\n",
    "# General Imports\n",
    "import os\n",
    "import re\n",
    "from tqdm import tqdm\n",
    "from colorama import Fore, Style\n",
    "from collections import Counter\n",
    "\n",
    "\n",
    "# Library versions.\n",
    "print(\"NumPy version:\", np.__version__)\n",
    "print(\"Spacy version:\", spacy.__version__)\n",
    "print(\"Pandas version:\", pd.__version__)\n",
    "print(\"Matplotlib version:\", matplotlib.__version__)\n",
    "print(\"Seaborn version:\", sns.__version__)"
   ]
  },
  {
   "attachments": {},
   "cell_type": "markdown",
   "metadata": {},
   "source": [
    "<h3>Konstanta</h3>"
   ]
  },
  {
   "cell_type": "code",
   "execution_count": 35,
   "metadata": {},
   "outputs": [],
   "source": [
    "DATA_DIR = \"dataset/\"\n",
    "METADATA_CSV = \"doc_metadata.csv\"\n",
    "PARSED_TEXT_CSV = \"doc_parsed_text.csv\"\n",
    "FINAL_CSV = \"doc_preprocessed.csv\""
   ]
  },
  {
   "attachments": {},
   "cell_type": "markdown",
   "metadata": {},
   "source": [
    "<h3>Daftar Fungsi</h3>"
   ]
  },
  {
   "cell_type": "code",
   "execution_count": 36,
   "metadata": {},
   "outputs": [],
   "source": [
    "def display_as_table(headers, rows, align=\"r\", add_sl_no=False):\n",
    "    if isinstance(rows, pd.Series):\n",
    "        rows = list(rows.iteritems())\n",
    "\n",
    "    table = PrettyTable(align=align)\n",
    "\n",
    "    if add_sl_no:\n",
    "        table.field_names = [\"No.\"] + list(headers)\n",
    "        table.align[\"No.\"] = \"r\"\n",
    "        rows = [[idx + 1] + list(row) for idx, row in enumerate(rows)]\n",
    "    else:\n",
    "        table.field_names = headers\n",
    "\n",
    "    table.add_rows(rows)\n",
    "    display(table)\n",
    "\n",
    "\n",
    "to_dict = lambda frm_list: {item: frm_list.index(item) for item in frm_list}\n",
    "\n",
    "def plot_elbow(ll, hl, col_name, df, y_label):\n",
    "    plt.figure(figsize=(4, 3))\n",
    "\n",
    "    pts = df[col_name].quantile(q=np.arange(ll, hl, 0.01))\n",
    "    sns.lineplot(x=pts.index, y=pts)\n",
    "    plt.title(f\"{y_label} b/w {ll} & {round(hl - 0.01, 2)} percentile\")\n",
    "    plt.xlabel(\"Percentile\")\n",
    "    plt.ylabel(y_label)\n",
    "\n",
    "    plt.show()\n",
    "    \n",
    "def is_empty(element):\n",
    "    \"\"\"\n",
    "    Function to check if input element is empty.\n",
    "    \"\"\"\n",
    "\n",
    "    if (isinstance(element, int) or isinstance(element, float)) and element == 0:\n",
    "        # Exclude 0 and 0.0 from the Falsy set.\n",
    "        return False\n",
    "    elif isinstance(element, str) and len(element.strip()) == 0:\n",
    "        # Include string with only one or more empty space(s) into Falsy set.\n",
    "        return True\n",
    "    elif isinstance(element, bool):\n",
    "        # Exclude False from the Falsy set.\n",
    "        return False\n",
    "    else:\n",
    "        return False if element else True"
   ]
  },
  {
   "cell_type": "code",
   "execution_count": 7,
   "metadata": {},
   "outputs": [
    {
     "data": {
      "text/html": [
       "<div>\n",
       "<style scoped>\n",
       "    .dataframe tbody tr th:only-of-type {\n",
       "        vertical-align: middle;\n",
       "    }\n",
       "\n",
       "    .dataframe tbody tr th {\n",
       "        vertical-align: top;\n",
       "    }\n",
       "\n",
       "    .dataframe thead th {\n",
       "        text-align: right;\n",
       "    }\n",
       "</style>\n",
       "<table border=\"1\" class=\"dataframe\">\n",
       "  <thead>\n",
       "    <tr style=\"text-align: right;\">\n",
       "      <th></th>\n",
       "      <th>Doc_Kategori</th>\n",
       "      <th>Id_Doc</th>\n",
       "      <th>Ukuran_Doc</th>\n",
       "      <th>Path_Doc</th>\n",
       "    </tr>\n",
       "  </thead>\n",
       "  <tbody>\n",
       "    <tr>\n",
       "      <th>1555</th>\n",
       "      <td>Business</td>\n",
       "      <td>B_211</td>\n",
       "      <td>1597</td>\n",
       "      <td>dataset/business/211.txt</td>\n",
       "    </tr>\n",
       "    <tr>\n",
       "      <th>1056</th>\n",
       "      <td>Entertainment</td>\n",
       "      <td>E_295</td>\n",
       "      <td>1318</td>\n",
       "      <td>dataset/entertainment/295.txt</td>\n",
       "    </tr>\n",
       "    <tr>\n",
       "      <th>1298</th>\n",
       "      <td>Business</td>\n",
       "      <td>B_341</td>\n",
       "      <td>1478</td>\n",
       "      <td>dataset/business/341.txt</td>\n",
       "    </tr>\n",
       "    <tr>\n",
       "      <th>1749</th>\n",
       "      <td>Sport</td>\n",
       "      <td>S_425</td>\n",
       "      <td>1797</td>\n",
       "      <td>dataset/sport/425.txt</td>\n",
       "    </tr>\n",
       "    <tr>\n",
       "      <th>791</th>\n",
       "      <td>Politics</td>\n",
       "      <td>P_173</td>\n",
       "      <td>2496</td>\n",
       "      <td>dataset/politics/173.txt</td>\n",
       "    </tr>\n",
       "    <tr>\n",
       "      <th>2166</th>\n",
       "      <td>Sport</td>\n",
       "      <td>S_010</td>\n",
       "      <td>1440</td>\n",
       "      <td>dataset/sport/010.txt</td>\n",
       "    </tr>\n",
       "    <tr>\n",
       "      <th>1533</th>\n",
       "      <td>Business</td>\n",
       "      <td>B_172</td>\n",
       "      <td>2516</td>\n",
       "      <td>dataset/business/172.txt</td>\n",
       "    </tr>\n",
       "    <tr>\n",
       "      <th>2185</th>\n",
       "      <td>Sport</td>\n",
       "      <td>S_021</td>\n",
       "      <td>1564</td>\n",
       "      <td>dataset/sport/021.txt</td>\n",
       "    </tr>\n",
       "    <tr>\n",
       "      <th>1967</th>\n",
       "      <td>Sport</td>\n",
       "      <td>S_316</td>\n",
       "      <td>1895</td>\n",
       "      <td>dataset/sport/316.txt</td>\n",
       "    </tr>\n",
       "    <tr>\n",
       "      <th>1351</th>\n",
       "      <td>Business</td>\n",
       "      <td>B_491</td>\n",
       "      <td>2127</td>\n",
       "      <td>dataset/business/491.txt</td>\n",
       "    </tr>\n",
       "  </tbody>\n",
       "</table>\n",
       "</div>"
      ],
      "text/plain": [
       "       Doc_Kategori Id_Doc  Ukuran_Doc                       Path_Doc\n",
       "1555       Business  B_211        1597       dataset/business/211.txt\n",
       "1056  Entertainment  E_295        1318  dataset/entertainment/295.txt\n",
       "1298       Business  B_341        1478       dataset/business/341.txt\n",
       "1749          Sport  S_425        1797          dataset/sport/425.txt\n",
       "791        Politics  P_173        2496       dataset/politics/173.txt\n",
       "2166          Sport  S_010        1440          dataset/sport/010.txt\n",
       "1533       Business  B_172        2516       dataset/business/172.txt\n",
       "2185          Sport  S_021        1564          dataset/sport/021.txt\n",
       "1967          Sport  S_316        1895          dataset/sport/316.txt\n",
       "1351       Business  B_491        2127       dataset/business/491.txt"
      ]
     },
     "execution_count": 7,
     "metadata": {},
     "output_type": "execute_result"
    }
   ],
   "source": [
    "meta_data = []\n",
    "\n",
    "folder_kategori = os.listdir(DATA_DIR)\n",
    "\n",
    "for kategori in folder_kategori:\n",
    "    path_kategori = os.path.join(DATA_DIR, kategori)\n",
    "    if not os.path.isdir(path_kategori):\n",
    "        continue\n",
    "\n",
    "    nama_docs = os.listdir(path_kategori)\n",
    "    for doc in nama_docs:\n",
    "        path_doc = path_kategori + \"/\" + doc\n",
    "        ukuran_doc = os.path.getsize(path_doc)\n",
    "        nama_doc, ext = os.path.splitext(doc) \n",
    "        doc_id = kategori[0].upper() + \"_\" + nama_doc\n",
    "        meta_data.append([kategori.capitalize(), doc_id, ukuran_doc, path_doc])\n",
    "\n",
    "nama_kolom = [\"Doc_Kategori\", \"Id_Doc\", \"Ukuran_Doc\", \"Path_Doc\"]\n",
    "meta_df = pd.DataFrame(data=meta_data, columns=nama_kolom)\n",
    "\n",
    "meta_df.to_csv(METADATA_CSV, index=False, na_rep=\"\")\n",
    "\n",
    "meta_df[\"Doc_Kategori\"] = meta_df[\"Doc_Kategori\"].astype(\"category\")\n",
    "\n",
    "meta_df.sample(10)\n"
   ]
  },
  {
   "cell_type": "code",
   "execution_count": 8,
   "metadata": {},
   "outputs": [
    {
     "name": "stdout",
     "output_type": "stream",
     "text": [
      "Dataset terdiri dari 2225 baris and 4 kolom.\n",
      "\n",
      "<class 'pandas.core.frame.DataFrame'>\n",
      "RangeIndex: 2225 entries, 0 to 2224\n",
      "Data columns (total 4 columns):\n",
      " #   Column        Non-Null Count  Dtype   \n",
      "---  ------        --------------  -----   \n",
      " 0   Doc_Kategori  2225 non-null   category\n",
      " 1   Id_Doc        2225 non-null   object  \n",
      " 2   Ukuran_Doc    2225 non-null   int64   \n",
      " 3   Path_Doc      2225 non-null   object  \n",
      "dtypes: category(1), int64(1), object(2)\n",
      "memory usage: 54.7+ KB\n"
     ]
    }
   ],
   "source": [
    "baris, kolom = meta_df.shape\n",
    "print(f\"Dataset terdiri dari {baris} baris and {kolom} kolom.\\n\")\n",
    "\n",
    "meta_df.info()"
   ]
  },
  {
   "attachments": {},
   "cell_type": "markdown",
   "metadata": {},
   "source": [
    "Tidak ada data yang <i>missing</i>"
   ]
  },
  {
   "attachments": {},
   "cell_type": "markdown",
   "metadata": {},
   "source": [
    "<h3>Label Kategori</h3>"
   ]
  },
  {
   "cell_type": "code",
   "execution_count": 9,
   "metadata": {},
   "outputs": [
    {
     "data": {
      "text/html": [
       "<table>\n",
       "    <thead>\n",
       "        <tr>\n",
       "            <th>No.</th>\n",
       "            <th>Label Kategori</th>\n",
       "            <th>Jumlah</th>\n",
       "        </tr>\n",
       "    </thead>\n",
       "    <tbody>\n",
       "        <tr>\n",
       "            <td>1</td>\n",
       "            <td>Sport</td>\n",
       "            <td>511</td>\n",
       "        </tr>\n",
       "        <tr>\n",
       "            <td>2</td>\n",
       "            <td>Business</td>\n",
       "            <td>510</td>\n",
       "        </tr>\n",
       "        <tr>\n",
       "            <td>3</td>\n",
       "            <td>Politics</td>\n",
       "            <td>417</td>\n",
       "        </tr>\n",
       "        <tr>\n",
       "            <td>4</td>\n",
       "            <td>Tech</td>\n",
       "            <td>401</td>\n",
       "        </tr>\n",
       "        <tr>\n",
       "            <td>5</td>\n",
       "            <td>Entertainment</td>\n",
       "            <td>386</td>\n",
       "        </tr>\n",
       "    </tbody>\n",
       "</table>"
      ],
      "text/plain": [
       "+-----+----------------+--------+\n",
       "| No. | Label Kategori | Jumlah |\n",
       "+-----+----------------+--------+\n",
       "|   1 |          Sport |    511 |\n",
       "|   2 |       Business |    510 |\n",
       "|   3 |       Politics |    417 |\n",
       "|   4 |           Tech |    401 |\n",
       "|   5 |  Entertainment |    386 |\n",
       "+-----+----------------+--------+"
      ]
     },
     "metadata": {},
     "output_type": "display_data"
    }
   ],
   "source": [
    "jum_kategori = meta_df[\"Doc_Kategori\"].value_counts()\n",
    "\n",
    "display_as_table(\n",
    "  headers = [\"Label Kategori\", \"Jumlah\"],\n",
    "  rows = list(zip(jum_kategori.index, jum_kategori.values)),\n",
    "  add_sl_no = True\n",
    ")"
   ]
  },
  {
   "cell_type": "code",
   "execution_count": 10,
   "metadata": {},
   "outputs": [
    {
     "data": {
      "image/png": "[encoded data removed]",
      "text/plain": [
       "<Figure size 500x500 with 1 Axes>"
      ]
     },
     "metadata": {},
     "output_type": "display_data"
    }
   ],
   "source": [
    "plt.figure(figsize=(5, 5))\n",
    "\n",
    "plt.pie(x=jum_kategori, labels=jum_kategori.index, autopct=\"%1.0f%%\")\n",
    "plt.title(\"Kategori Dokumen\")\n",
    "\n",
    "plt.show()"
   ]
  },
  {
   "cell_type": "code",
   "execution_count": 11,
   "metadata": {},
   "outputs": [
    {
     "name": "stdout",
     "output_type": "stream",
     "text": [
      "Encoded class-labels:\n",
      " {'Business': 0, 'Entertainment': 1, 'Politics': 2, 'Sport': 3, 'Tech': 4}\n"
     ]
    },
    {
     "data": {
      "text/plain": [
       "DocCat\n",
       "0    401\n",
       "1    417\n",
       "2    386\n",
       "3    510\n",
       "4    511\n",
       "Name: count, dtype: int64"
      ]
     },
     "execution_count": 11,
     "metadata": {},
     "output_type": "execute_result"
    }
   ],
   "source": [
    "codes, uniques = pd.factorize(meta_df[\"Doc_Kategori\"])\n",
    "\n",
    "cls_map = to_dict(uniques.categories.to_list())\n",
    "print(\"Encoded class-labels:\\n\", cls_map)\n",
    "\n",
    "meta_df[\"DocCat\"] = codes\n",
    "meta_df[\"DocCat\"].value_counts().sort_index()"
   ]
  },
  {
   "cell_type": "code",
   "execution_count": 12,
   "metadata": {},
   "outputs": [
    {
     "data": {
      "image/png": "[encoded data removed]",
      "text/plain": [
       "<Figure size 800x500 with 1 Axes>"
      ]
     },
     "metadata": {},
     "output_type": "display_data"
    }
   ],
   "source": [
    "plt.figure(figsize=(8, 5))\n",
    "\n",
    "sns.boxplot(data=meta_df, x=\"Ukuran_Doc\", y=\"Doc_Kategori\", palette=\"tab10\", hue=\"Doc_Kategori\", legend=False)\n",
    "plt.title(\"Distribusi ukuran dokumen\")\n",
    "plt.xlabel(\"Ukuran dokumen dalam bytes\")\n",
    "plt.ylabel(\"Kategori Dokumen\")\n",
    "\n",
    "plt.show()"
   ]
  },
  {
   "cell_type": "code",
   "execution_count": 28,
   "metadata": {},
   "outputs": [
    {
     "data": {
      "image/png": "[encoded data removed]",
      "text/plain": [
       "<Figure size 400x300 with 1 Axes>"
      ]
     },
     "metadata": {},
     "output_type": "display_data"
    }
   ],
   "source": [
    "plot_elbow(0.97, 1, \"Ukuran_Doc\", meta_df, \"Ukuran dokumen dalam bytes\")"
   ]
  },
  {
   "attachments": {},
   "cell_type": "markdown",
   "metadata": {},
   "source": [
    "<b>Observations</b>\n",
    "\n",
    "<ol>\n",
    "    <li><b>99%</b> of documents have file size <b>less than ~6 KB.</b></li>\n",
    "    <li><b>All documents</b> with file size <b>greater than 6 KB</b> can be considered as <b>outliers.</b></li>\n",
    "</ol>"
   ]
  },
  {
   "cell_type": "code",
   "execution_count": 24,
   "metadata": {},
   "outputs": [
    {
     "data": {
      "image/png": "[encoded data removed]",
      "text/plain": [
       "<Figure size 700x500 with 1 Axes>"
      ]
     },
     "metadata": {},
     "output_type": "display_data"
    }
   ],
   "source": [
    "fltr = meta_df[\"Ukuran_Doc\"] < 6_000\n",
    "\n",
    "plt.figure(figsize=(7, 5))\n",
    "\n",
    "sns.boxplot(data=meta_df[fltr], x=\"Ukuran_Doc\", y=\"Doc_Kategori\", palette=\"tab10\", hue=\"Doc_Kategori\", legend=False)\n",
    "plt.title(\"Distribution of file size among various document types (without outliers).\")\n",
    "plt.xlabel(\"File size in bytes\")\n",
    "plt.ylabel(\"Document Type\")\n",
    "\n",
    "plt.show()"
   ]
  },
  {
   "cell_type": "code",
   "execution_count": 30,
   "metadata": {},
   "outputs": [
    {
     "name": "stdout",
     "output_type": "stream",
     "text": [
      "0.9% of documents are larger than 6 KB.\n"
     ]
    }
   ],
   "source": [
    "gte_6_KB = round(len(meta_df[~fltr]) / baris * 100, 1)\n",
    "print(f\"{gte_6_KB}% of documents are larger than 6 KB.\")"
   ]
  },
  {
   "attachments": {},
   "cell_type": "markdown",
   "metadata": {},
   "source": [
    "<b>Observations</b>\n",
    "\n",
    "<ol>\n",
    "    <li>Distribution of FileSize features are overlapping for most of the document types.</li>\n",
    "    <li>There is no visible pattern to differentiate various document types using only FileSize feature.</li>\n",
    "    <li>Since only 0.9% of documents have file size greater than 6 KB, the outliers, they can be deleted later.</li>\n",
    "    <li>Files of doc types tech and politics have larger file size compared to others.</li>\n",
    "</ol>"
   ]
  },
  {
   "cell_type": "code",
   "execution_count": 31,
   "metadata": {},
   "outputs": [
    {
     "data": {
      "text/html": [
       "<table>\n",
       "    <thead>\n",
       "        <tr>\n",
       "            <th>No.</th>\n",
       "            <th>Class label</th>\n",
       "            <th>% of data lost per class</th>\n",
       "        </tr>\n",
       "    </thead>\n",
       "    <tbody>\n",
       "        <tr>\n",
       "            <td>1</td>\n",
       "            <td>Sport</td>\n",
       "            <td>1.2</td>\n",
       "        </tr>\n",
       "        <tr>\n",
       "            <td>2</td>\n",
       "            <td>Business</td>\n",
       "            <td>1.0</td>\n",
       "        </tr>\n",
       "        <tr>\n",
       "            <td>3</td>\n",
       "            <td>Politics</td>\n",
       "            <td>1.2</td>\n",
       "        </tr>\n",
       "        <tr>\n",
       "            <td>4</td>\n",
       "            <td>Tech</td>\n",
       "            <td>1.0</td>\n",
       "        </tr>\n",
       "        <tr>\n",
       "            <td>5</td>\n",
       "            <td>Entertainment</td>\n",
       "            <td>0.0</td>\n",
       "        </tr>\n",
       "    </tbody>\n",
       "</table>"
      ],
      "text/plain": [
       "+-----+---------------+--------------------------+\n",
       "| No. |   Class label | % of data lost per class |\n",
       "+-----+---------------+--------------------------+\n",
       "|   1 |         Sport |                      1.2 |\n",
       "|   2 |      Business |                      1.0 |\n",
       "|   3 |      Politics |                      1.2 |\n",
       "|   4 |          Tech |                      1.0 |\n",
       "|   5 | Entertainment |                      0.0 |\n",
       "+-----+---------------+--------------------------+"
      ]
     },
     "metadata": {},
     "output_type": "display_data"
    }
   ],
   "source": [
    "fltr = meta_df[\"Ukuran_Doc\"] > 6_000\n",
    "outliers = meta_df.loc[fltr, \"Doc_Kategori\"].value_counts()\n",
    "lost = np.round(np.divide(outliers.values, jum_kategori.values) * 100, 1)\n",
    "\n",
    "display_as_table(\n",
    "    headers=[\"Class label\", \"% of data lost per class\"],\n",
    "    rows=list(zip(jum_kategori.index, lost)),\n",
    "    add_sl_no=True,\n",
    ")"
   ]
  },
  {
   "cell_type": "code",
   "execution_count": 32,
   "metadata": {},
   "outputs": [
    {
     "name": "stdout",
     "output_type": "stream",
     "text": [
      "Dataset contains 2205 rows and 5 columns.\n"
     ]
    }
   ],
   "source": [
    "meta_df.drop(meta_df[fltr].index, inplace=True)\n",
    "\n",
    "rows_wo, cols_wo = meta_df.shape  # wo :- Without outliers\n",
    "print(f\"Dataset contains {rows_wo} rows and {cols_wo} columns.\")"
   ]
  },
  {
   "cell_type": "code",
   "execution_count": 33,
   "metadata": {},
   "outputs": [],
   "source": [
    "SPECIAL_CHARS = r\"([^a-z0-9\\s])\\1+\"\n",
    "flags_im = re.IGNORECASE | re.MULTILINE\n",
    "\n",
    "\n",
    "def preprocess(text):\n",
    "    # Replace consecutive similar special characters with space.\n",
    "    text = re.sub(SPECIAL_CHARS, \" \", text, flags=flags_im)\n",
    "\n",
    "    # Compress text into a single line by replacing all\n",
    "    # extra spaces, \\t, \\n, \\r etc. with a single space.\n",
    "    return re.sub(r\"\\s+\", \" \", text).strip()"
   ]
  },
  {
   "cell_type": "code",
   "execution_count": 34,
   "metadata": {},
   "outputs": [
    {
     "name": "stdout",
     "output_type": "stream",
     "text": [
      "OMG This is line1. Is this really line 2 Some lengthy line to test text preprocessing. Oh! Text in \"quotes\" are not affected. Are these preprocessing steps enough?\n"
     ]
    }
   ],
   "source": [
    "inp_text = \"\"\"\n",
    "OMG!!!! This is line1.\n",
    "\n",
    "Is this really line 2????\n",
    "\n",
    "\n",
    "Some lengthy line -- to test text preprocessing. Oh! Text in \"quotes\" are not affected.\n",
    "Are these preprocessing steps enough?\n",
    "\"\"\"\n",
    "\n",
    "print(preprocess(inp_text))"
   ]
  },
  {
   "cell_type": "code",
   "execution_count": 38,
   "metadata": {},
   "outputs": [
    {
     "name": "stderr",
     "output_type": "stream",
     "text": [
      "100%|██████████| 2205/2205 [29:49<00:00,  1.23it/s]"
     ]
    },
    {
     "name": "stdout",
     "output_type": "stream",
     "text": [
      "Parsed text saved to: doc_metadata.csv\n"
     ]
    },
    {
     "name": "stderr",
     "output_type": "stream",
     "text": [
      "\n"
     ]
    },
    {
     "data": {
      "text/html": [
       "<div>\n",
       "<style scoped>\n",
       "    .dataframe tbody tr th:only-of-type {\n",
       "        vertical-align: middle;\n",
       "    }\n",
       "\n",
       "    .dataframe tbody tr th {\n",
       "        vertical-align: top;\n",
       "    }\n",
       "\n",
       "    .dataframe thead th {\n",
       "        text-align: right;\n",
       "    }\n",
       "</style>\n",
       "<table border=\"1\" class=\"dataframe\">\n",
       "  <thead>\n",
       "    <tr style=\"text-align: right;\">\n",
       "      <th></th>\n",
       "      <th>DocId</th>\n",
       "      <th>DocTextlen</th>\n",
       "      <th>DocText</th>\n",
       "    </tr>\n",
       "  </thead>\n",
       "  <tbody>\n",
       "    <tr>\n",
       "      <th>0</th>\n",
       "      <td>T_395</td>\n",
       "      <td>4904</td>\n",
       "      <td>Cebit fever takes over Hanover Thousands of pr...</td>\n",
       "    </tr>\n",
       "    <tr>\n",
       "      <th>1</th>\n",
       "      <td>T_394</td>\n",
       "      <td>4887</td>\n",
       "      <td>TV's future down the phone line Internet TV ha...</td>\n",
       "    </tr>\n",
       "    <tr>\n",
       "      <th>2</th>\n",
       "      <td>T_392</td>\n",
       "      <td>2031</td>\n",
       "      <td>Broadband fuels online expression Fast web acc...</td>\n",
       "    </tr>\n",
       "    <tr>\n",
       "      <th>3</th>\n",
       "      <td>T_393</td>\n",
       "      <td>2862</td>\n",
       "      <td>Savvy searchers fail to spot ads Internet sear...</td>\n",
       "    </tr>\n",
       "    <tr>\n",
       "      <th>4</th>\n",
       "      <td>T_391</td>\n",
       "      <td>4946</td>\n",
       "      <td>Peer-to-peer nets 'here to stay' Peer-to-peer ...</td>\n",
       "    </tr>\n",
       "  </tbody>\n",
       "</table>\n",
       "</div>"
      ],
      "text/plain": [
       "   DocId  DocTextlen                                            DocText\n",
       "0  T_395        4904  Cebit fever takes over Hanover Thousands of pr...\n",
       "1  T_394        4887  TV's future down the phone line Internet TV ha...\n",
       "2  T_392        2031  Broadband fuels online expression Fast web acc...\n",
       "3  T_393        2862  Savvy searchers fail to spot ads Internet sear...\n",
       "4  T_391        4946  Peer-to-peer nets 'here to stay' Peer-to-peer ..."
      ]
     },
     "execution_count": 38,
     "metadata": {},
     "output_type": "execute_result"
    }
   ],
   "source": [
    "if os.path.exists(PARSED_TEXT_CSV):\n",
    "    print(\"Loading parsed text data of documents from:\", PARSED_TEXT_CSV)\n",
    "    prsd_df = pd.read_csv(PARSED_TEXT_CSV)\n",
    "else:\n",
    "    parsed_data = []\n",
    "    for doc_id, file_path in tqdm(meta_df[[\"Id_Doc\", \"Path_Doc\"]].values):\n",
    "\n",
    "        # Read document as byte-file.\n",
    "        with open(file_path, \"rb\") as txt_f:\n",
    "            ip_text = txt_f.read().decode(\"utf-8\", errors=\"ignore\").strip()  # Input txt\n",
    "\n",
    "            if is_empty(ip_text):\n",
    "                continue\n",
    "\n",
    "            op_text = preprocess(ip_text)\n",
    "            parsed_data.append([doc_id, len(op_text), op_text])\n",
    "\n",
    "    # Convert parsed text from documents into a DataFrame.\n",
    "    col_names = [\"DocId\", \"DocTextlen\", \"DocText\"]\n",
    "    prsd_df = pd.DataFrame(parsed_data, columns=col_names)\n",
    "\n",
    "    # Save DataFrame as CSV file for future use.\n",
    "    prsd_df.to_csv(PARSED_TEXT_CSV, index=False, na_rep=\"\")\n",
    "    print(\"Parsed text saved to:\", METADATA_CSV)\n",
    "\n",
    "prsd_df.head()"
   ]
  }
 ],
 "metadata": {
  "kernelspec": {
   "display_name": "Python 3",
   "language": "python",
   "name": "python3"
  },
  "language_info": {
   "codemirror_mode": {
    "name": "ipython",
    "version": 3
   },
   "file_extension": ".py",
   "mimetype": "text/x-python",
   "name": "python",
   "nbconvert_exporter": "python",
   "pygments_lexer": "ipython3",
   "version": "3.11.4"
  }
 },
 "nbformat": 4,
 "nbformat_minor": 2
}
